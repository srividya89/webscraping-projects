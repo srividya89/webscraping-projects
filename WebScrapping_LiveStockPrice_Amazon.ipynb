{
 "cells": [
  {
   "cell_type": "markdown",
   "id": "0262d65d-a3a0-4ea9-ae3e-340e27ed050c",
   "metadata": {},
   "source": [
    "Scrap the LivestockPrice.before we scrap any website or data we first need to import the API.we import the 'requests' where 'requests'is the webAPI.we import that requests.it will go to particular url and make a requests to access the data.next we import the beautifulsoup"
   ]
  },
  {
   "cell_type": "markdown",
   "id": "95d586a1-82eb-4ec0-8c0b-2471e4cff500",
   "metadata": {},
   "source": [
    "It helps to parse the data from url using bs4(beautifulsoup4).it requests the urls.bs4 needs to parse the data from the url."
   ]
  },
  {
   "cell_type": "code",
   "execution_count": 1,
   "id": "bb408bf5-f795-40ae-beb2-e5b15dbefe88",
   "metadata": {},
   "outputs": [],
   "source": [
    "import requests"
   ]
  },
  {
   "cell_type": "code",
   "execution_count": 2,
   "id": "76fc3543-343a-443e-b626-099fe6a466ab",
   "metadata": {},
   "outputs": [],
   "source": [
    "from bs4 import BeautifulSoup"
   ]
  },
  {
   "cell_type": "markdown",
   "id": "53b75ec9-33d8-4d42-81ca-be80f6c4129b",
   "metadata": {},
   "source": [
    "we scarp the data from stock website(i.e)yahoo finance where there is a stock amazon.There are many stocks listed.we scrap here 'Amazon price' .we gonna to use this 'amazon' a ticker.we can call it as a ticker.so'amazon' is a ticker for the 'amazon' stock.that we store in variable 'stock'"
   ]
  },
  {
   "cell_type": "code",
   "execution_count": 3,
   "id": "b9baa5ae-b557-46a2-b6eb-6fda3a462cb2",
   "metadata": {},
   "outputs": [
    {
     "data": {
      "text/plain": [
       "'https://finance.yahoo.com/quote/AMZN?p=AMZN'"
      ]
     },
     "execution_count": 3,
     "metadata": {},
     "output_type": "execute_result"
    }
   ],
   "source": [
    "stock='AMZN'\n",
    "url='https://finance.yahoo.com/quote/'+str(stock)+'?p='+str(stock)\n",
    "url"
   ]
  },
  {
   "cell_type": "markdown",
   "id": "a142c116-e27b-4ae5-8dbb-7aed1a246fae",
   "metadata": {},
   "source": [
    "here AMZN in url is the ticker value for the website .e.g: https://finance.yahoo.com/quote/GOOG/\n",
    "                                    so wherever there is AMZN  is coming there we are having the stock and we are converting the stock into string"
   ]
  },
  {
   "cell_type": "markdown",
   "id": "dbbc68a0-39db-46c1-957d-3321ac5f0cb3",
   "metadata": {},
   "source": [
    "we can't pass AMZN value directly in url.its a good practice to store 'AMZN' (ticker) into a variable and then use it.so later if we want to scrap another stock price so we can directly change it for variable value.only one time.we dont need to change more times."
   ]
  },
  {
   "cell_type": "code",
   "execution_count": 4,
   "id": "a00c594a-235b-435c-856d-cbed436793d0",
   "metadata": {},
   "outputs": [
    {
     "data": {
      "text/plain": [
       "<Response [429]>"
      ]
     },
     "execution_count": 4,
     "metadata": {},
     "output_type": "execute_result"
    }
   ],
   "source": [
    "res=requests.get(url)\n",
    "res"
   ]
  },
  {
   "cell_type": "code",
   "execution_count": 11,
   "id": "f5e70d00-57f3-46d6-9989-7ad2cc6baa29",
   "metadata": {},
   "outputs": [
    {
     "name": "stdout",
     "output_type": "stream",
     "text": [
      "Collecting selenium\n",
      "  Downloading selenium-4.34.2-py3-none-any.whl.metadata (7.5 kB)\n",
      "Requirement already satisfied: urllib3~=2.5.0 in c:\\users\\welcome\\anaconda3\\envs\\mycorrectenv\\lib\\site-packages (from urllib3[socks]~=2.5.0->selenium) (2.5.0)\n",
      "Collecting trio~=0.30.0 (from selenium)\n",
      "  Downloading trio-0.30.0-py3-none-any.whl.metadata (8.5 kB)\n",
      "Collecting trio-websocket~=0.12.2 (from selenium)\n",
      "  Downloading trio_websocket-0.12.2-py3-none-any.whl.metadata (5.1 kB)\n",
      "Requirement already satisfied: certifi>=2025.6.15 in c:\\users\\welcome\\anaconda3\\envs\\mycorrectenv\\lib\\site-packages (from selenium) (2025.7.14)\n",
      "Requirement already satisfied: typing_extensions~=4.14.0 in c:\\users\\welcome\\anaconda3\\envs\\mycorrectenv\\lib\\site-packages (from selenium) (4.14.1)\n",
      "Collecting websocket-client~=1.8.0 (from selenium)\n",
      "  Downloading websocket_client-1.8.0-py3-none-any.whl.metadata (8.0 kB)\n",
      "Collecting attrs>=23.2.0 (from trio~=0.30.0->selenium)\n",
      "  Downloading attrs-25.3.0-py3-none-any.whl.metadata (10 kB)\n",
      "Collecting sortedcontainers (from trio~=0.30.0->selenium)\n",
      "  Downloading sortedcontainers-2.4.0-py2.py3-none-any.whl.metadata (10 kB)\n",
      "Requirement already satisfied: idna in c:\\users\\welcome\\anaconda3\\envs\\mycorrectenv\\lib\\site-packages (from trio~=0.30.0->selenium) (3.10)\n",
      "Collecting outcome (from trio~=0.30.0->selenium)\n",
      "  Downloading outcome-1.3.0.post0-py2.py3-none-any.whl.metadata (2.6 kB)\n",
      "Collecting sniffio>=1.3.0 (from trio~=0.30.0->selenium)\n",
      "  Downloading sniffio-1.3.1-py3-none-any.whl.metadata (3.9 kB)\n",
      "Requirement already satisfied: cffi>=1.14 in c:\\users\\welcome\\anaconda3\\envs\\mycorrectenv\\lib\\site-packages (from trio~=0.30.0->selenium) (1.17.1)\n",
      "Requirement already satisfied: exceptiongroup in c:\\users\\welcome\\anaconda3\\envs\\mycorrectenv\\lib\\site-packages (from trio~=0.30.0->selenium) (1.2.0)\n",
      "Collecting wsproto>=0.14 (from trio-websocket~=0.12.2->selenium)\n",
      "  Downloading wsproto-1.2.0-py3-none-any.whl.metadata (5.6 kB)\n",
      "Requirement already satisfied: pysocks!=1.5.7,<2.0,>=1.5.6 in c:\\users\\welcome\\anaconda3\\envs\\mycorrectenv\\lib\\site-packages (from urllib3[socks]~=2.5.0->selenium) (1.7.1)\n",
      "Requirement already satisfied: pycparser in c:\\users\\welcome\\anaconda3\\envs\\mycorrectenv\\lib\\site-packages (from cffi>=1.14->trio~=0.30.0->selenium) (2.22)\n",
      "Collecting h11<1,>=0.9.0 (from wsproto>=0.14->trio-websocket~=0.12.2->selenium)\n",
      "  Using cached h11-0.16.0-py3-none-any.whl.metadata (8.3 kB)\n",
      "Downloading selenium-4.34.2-py3-none-any.whl (9.4 MB)\n",
      "   ---------------------------------------- 0.0/9.4 MB ? eta -:--:--\n",
      "   ----------------------------------- ---- 8.4/9.4 MB 47.2 MB/s eta 0:00:01\n",
      "   ---------------------------------------- 9.4/9.4 MB 41.8 MB/s eta 0:00:00\n",
      "Downloading trio-0.30.0-py3-none-any.whl (499 kB)\n",
      "Downloading trio_websocket-0.12.2-py3-none-any.whl (21 kB)\n",
      "Downloading websocket_client-1.8.0-py3-none-any.whl (58 kB)\n",
      "Downloading attrs-25.3.0-py3-none-any.whl (63 kB)\n",
      "Downloading outcome-1.3.0.post0-py2.py3-none-any.whl (10 kB)\n",
      "Downloading sniffio-1.3.1-py3-none-any.whl (10 kB)\n",
      "Downloading wsproto-1.2.0-py3-none-any.whl (24 kB)\n",
      "Using cached h11-0.16.0-py3-none-any.whl (37 kB)\n",
      "Downloading sortedcontainers-2.4.0-py2.py3-none-any.whl (29 kB)\n",
      "Installing collected packages: sortedcontainers, websocket-client, sniffio, h11, attrs, wsproto, outcome, trio, trio-websocket, selenium\n",
      "\n",
      "   ---- -----------------------------------  1/10 [websocket-client]\n",
      "   ------------ ---------------------------  3/10 [h11]\n",
      "   ---------------- -----------------------  4/10 [attrs]\n",
      "   ------------------------ ---------------  6/10 [outcome]\n",
      "   ---------------------------- -----------  7/10 [trio]\n",
      "   ---------------------------- -----------  7/10 [trio]\n",
      "   ---------------------------- -----------  7/10 [trio]\n",
      "   ---------------------------- -----------  7/10 [trio]\n",
      "   ---------------------------- -----------  7/10 [trio]\n",
      "   ---------------------------- -----------  7/10 [trio]\n",
      "   ---------------------------- -----------  7/10 [trio]\n",
      "   ------------------------------------ ---  9/10 [selenium]\n",
      "   ------------------------------------ ---  9/10 [selenium]\n",
      "   ------------------------------------ ---  9/10 [selenium]\n",
      "   ------------------------------------ ---  9/10 [selenium]\n",
      "   ------------------------------------ ---  9/10 [selenium]\n",
      "   ------------------------------------ ---  9/10 [selenium]\n",
      "   ------------------------------------ ---  9/10 [selenium]\n",
      "   ------------------------------------ ---  9/10 [selenium]\n",
      "   ------------------------------------ ---  9/10 [selenium]\n",
      "   ------------------------------------ ---  9/10 [selenium]\n",
      "   ------------------------------------ ---  9/10 [selenium]\n",
      "   ------------------------------------ ---  9/10 [selenium]\n",
      "   ------------------------------------ ---  9/10 [selenium]\n",
      "   ------------------------------------ ---  9/10 [selenium]\n",
      "   ------------------------------------ ---  9/10 [selenium]\n",
      "   ------------------------------------ ---  9/10 [selenium]\n",
      "   ------------------------------------ ---  9/10 [selenium]\n",
      "   ------------------------------------ ---  9/10 [selenium]\n",
      "   ------------------------------------ ---  9/10 [selenium]\n",
      "   ---------------------------------------- 10/10 [selenium]\n",
      "\n",
      "Successfully installed attrs-25.3.0 h11-0.16.0 outcome-1.3.0.post0 selenium-4.34.2 sniffio-1.3.1 sortedcontainers-2.4.0 trio-0.30.0 trio-websocket-0.12.2 websocket-client-1.8.0 wsproto-1.2.0\n"
     ]
    }
   ],
   "source": [
    "!pip install selenium"
   ]
  },
  {
   "cell_type": "code",
   "execution_count": 12,
   "id": "b2b31132-0dd9-4f92-b1c0-8230b2280817",
   "metadata": {},
   "outputs": [],
   "source": [
    "import pandas as pd\n",
    "from selenium import webdriver"
   ]
  },
  {
   "cell_type": "markdown",
   "id": "989c76a8-3381-4921-a6cf-85fa683a791c",
   "metadata": {},
   "source": [
    "Using selenium"
   ]
  },
  {
   "cell_type": "code",
   "execution_count": null,
   "id": "02e050e9-a400-4d67-a95b-5075bf1d9a3c",
   "metadata": {},
   "outputs": [],
   "source": [
    "from selenium import webdriver\n",
    "from selenium.webdriver.edge.service import Service\n",
    "from selenium.webdriver.edge.options import Options\n",
    "\n",
    "# Optional: Set up Edge options (headless mode, etc.)\n",
    "edge_options = Options()\n",
    "# edge_options.add_argument(\"--headless\")  # Uncomment to run in headless mode\n",
    "\n",
    "# Path to your msedgedriver.exe\n",
    "edge_driver_path = \"C:\\\\path\\\\to\\\\msedgedriver.exe\"\n",
    "\n",
    "# Initialize Edge WebDriver\n",
    "service = Service(edge_driver_path)\n",
    "driver = webdriver.Edge(service=service, options=edge_options)\n",
    "\n",
    "# Open a URL\n",
    "driver.get(\"https://www.example.com\")\n",
    "\n",
    "# Optional: Print the page title\n",
    "print(driver.title)\n",
    "\n",
    "# Don't forget to close the browser when done\n",
    "driver.quit()\n"
   ]
  },
  {
   "cell_type": "code",
   "execution_count": 15,
   "id": "f3ec2ee2-5c70-439a-beb8-23201195057e",
   "metadata": {},
   "outputs": [
    {
     "name": "stdout",
     "output_type": "stream",
     "text": [
      "Collecting webdriver-manager\n",
      "  Downloading webdriver_manager-4.0.2-py2.py3-none-any.whl.metadata (12 kB)\n",
      "Requirement already satisfied: requests in c:\\users\\welcome\\anaconda3\\envs\\mycorrectenv\\lib\\site-packages (from webdriver-manager) (2.32.4)\n",
      "Collecting python-dotenv (from webdriver-manager)\n",
      "  Downloading python_dotenv-1.1.1-py3-none-any.whl.metadata (24 kB)\n",
      "Requirement already satisfied: packaging in c:\\users\\welcome\\anaconda3\\envs\\mycorrectenv\\lib\\site-packages (from webdriver-manager) (25.0)\n",
      "Requirement already satisfied: charset_normalizer<4,>=2 in c:\\users\\welcome\\anaconda3\\envs\\mycorrectenv\\lib\\site-packages (from requests->webdriver-manager) (3.4.2)\n",
      "Requirement already satisfied: idna<4,>=2.5 in c:\\users\\welcome\\anaconda3\\envs\\mycorrectenv\\lib\\site-packages (from requests->webdriver-manager) (3.10)\n",
      "Requirement already satisfied: urllib3<3,>=1.21.1 in c:\\users\\welcome\\anaconda3\\envs\\mycorrectenv\\lib\\site-packages (from requests->webdriver-manager) (2.5.0)\n",
      "Requirement already satisfied: certifi>=2017.4.17 in c:\\users\\welcome\\anaconda3\\envs\\mycorrectenv\\lib\\site-packages (from requests->webdriver-manager) (2025.7.14)\n",
      "Downloading webdriver_manager-4.0.2-py2.py3-none-any.whl (27 kB)\n",
      "Downloading python_dotenv-1.1.1-py3-none-any.whl (20 kB)\n",
      "Installing collected packages: python-dotenv, webdriver-manager\n",
      "\n",
      "   -------------------- ------------------- 1/2 [webdriver-manager]\n",
      "   ---------------------------------------- 2/2 [webdriver-manager]\n",
      "\n",
      "Successfully installed python-dotenv-1.1.1 webdriver-manager-4.0.2\n",
      "Note: you may need to restart the kernel to use updated packages.\n"
     ]
    }
   ],
   "source": [
    "pip install webdriver-manager\n"
   ]
  },
  {
   "cell_type": "code",
   "execution_count": 27,
   "id": "234a2967-6509-413f-abde-cf5e2c78a5f2",
   "metadata": {},
   "outputs": [
    {
     "name": "stdout",
     "output_type": "stream",
     "text": [
      "\n"
     ]
    }
   ],
   "source": [
    "from selenium import webdriver\n",
    "from selenium.webdriver.chrome.service import Service\n",
    "from selenium.webdriver.chrome.options import Options\n",
    "from webdriver_manager.chrome import ChromeDriverManager\n",
    "\n",
    "# Setup Chrome options\n",
    "options = Options()\n",
    "# options.add_argument('--headless')  # Optional: Run without UI\n",
    "\n",
    "# Correct usage with service\n",
    "service = Service(ChromeDriverManager().install())\n",
    "driver = webdriver.Chrome(service=service, options=options)\n",
    "\n",
    "# Example usage\n",
    "ticker = \"AMZN\"\n",
    "driver.get(f\"https://query1.finance.yahoo.com/v7/finance/quote?symbols={ticker}\")\n",
    "\n",
    "print(driver.title)\n",
    "#driver.quit()\n"
   ]
  },
  {
   "cell_type": "code",
   "execution_count": 22,
   "id": "6512cdd9-f643-4437-b5fb-cd80f5f37a39",
   "metadata": {},
   "outputs": [
    {
     "name": "stdout",
     "output_type": "stream",
     "text": [
      "Collecting yfinance\n",
      "  Downloading yfinance-0.2.65-py2.py3-none-any.whl.metadata (5.8 kB)\n",
      "Requirement already satisfied: pandas>=1.3.0 in c:\\users\\welcome\\anaconda3\\envs\\mycorrectenv\\lib\\site-packages (from yfinance) (2.3.1)\n",
      "Requirement already satisfied: numpy>=1.16.5 in c:\\users\\welcome\\anaconda3\\envs\\mycorrectenv\\lib\\site-packages (from yfinance) (1.24.4)\n",
      "Requirement already satisfied: requests>=2.31 in c:\\users\\welcome\\anaconda3\\envs\\mycorrectenv\\lib\\site-packages (from yfinance) (2.32.4)\n",
      "Collecting multitasking>=0.0.7 (from yfinance)\n",
      "  Downloading multitasking-0.0.12.tar.gz (19 kB)\n",
      "  Preparing metadata (setup.py): started\n",
      "  Preparing metadata (setup.py): finished with status 'done'\n",
      "Requirement already satisfied: platformdirs>=2.0.0 in c:\\users\\welcome\\anaconda3\\envs\\mycorrectenv\\lib\\site-packages (from yfinance) (4.3.8)\n",
      "Requirement already satisfied: pytz>=2022.5 in c:\\users\\welcome\\anaconda3\\envs\\mycorrectenv\\lib\\site-packages (from yfinance) (2025.2)\n",
      "Collecting frozendict>=2.3.4 (from yfinance)\n",
      "  Downloading frozendict-2.4.6-cp310-cp310-win_amd64.whl.metadata (23 kB)\n",
      "Collecting peewee>=3.16.2 (from yfinance)\n",
      "  Downloading peewee-3.18.2.tar.gz (949 kB)\n",
      "     ---------------------------------------- 0.0/949.2 kB ? eta -:--:--\n",
      "     ------------------------------------- 949.2/949.2 kB 42.9 MB/s eta 0:00:00\n",
      "  Installing build dependencies: started\n",
      "  Installing build dependencies: finished with status 'done'\n",
      "  Getting requirements to build wheel: started\n",
      "  Getting requirements to build wheel: finished with status 'done'\n",
      "  Preparing metadata (pyproject.toml): started\n",
      "  Preparing metadata (pyproject.toml): finished with status 'done'\n",
      "Requirement already satisfied: beautifulsoup4>=4.11.1 in c:\\users\\welcome\\anaconda3\\envs\\mycorrectenv\\lib\\site-packages (from yfinance) (4.13.4)\n",
      "Collecting curl_cffi>=0.7 (from yfinance)\n",
      "  Downloading curl_cffi-0.12.0-cp39-abi3-win_amd64.whl.metadata (15 kB)\n",
      "Requirement already satisfied: protobuf>=3.19.0 in c:\\users\\welcome\\anaconda3\\envs\\mycorrectenv\\lib\\site-packages (from yfinance) (6.31.1)\n",
      "Collecting websockets>=13.0 (from yfinance)\n",
      "  Downloading websockets-15.0.1-cp310-cp310-win_amd64.whl.metadata (7.0 kB)\n",
      "Requirement already satisfied: soupsieve>1.2 in c:\\users\\welcome\\anaconda3\\envs\\mycorrectenv\\lib\\site-packages (from beautifulsoup4>=4.11.1->yfinance) (2.7)\n",
      "Requirement already satisfied: typing-extensions>=4.0.0 in c:\\users\\welcome\\anaconda3\\envs\\mycorrectenv\\lib\\site-packages (from beautifulsoup4>=4.11.1->yfinance) (4.14.1)\n",
      "Requirement already satisfied: cffi>=1.12.0 in c:\\users\\welcome\\anaconda3\\envs\\mycorrectenv\\lib\\site-packages (from curl_cffi>=0.7->yfinance) (1.17.1)\n",
      "Requirement already satisfied: certifi>=2024.2.2 in c:\\users\\welcome\\anaconda3\\envs\\mycorrectenv\\lib\\site-packages (from curl_cffi>=0.7->yfinance) (2025.7.14)\n",
      "Requirement already satisfied: pycparser in c:\\users\\welcome\\anaconda3\\envs\\mycorrectenv\\lib\\site-packages (from cffi>=1.12.0->curl_cffi>=0.7->yfinance) (2.22)\n",
      "Requirement already satisfied: python-dateutil>=2.8.2 in c:\\users\\welcome\\anaconda3\\envs\\mycorrectenv\\lib\\site-packages (from pandas>=1.3.0->yfinance) (2.9.0.post0)\n",
      "Requirement already satisfied: tzdata>=2022.7 in c:\\users\\welcome\\anaconda3\\envs\\mycorrectenv\\lib\\site-packages (from pandas>=1.3.0->yfinance) (2025.2)\n",
      "Requirement already satisfied: six>=1.5 in c:\\users\\welcome\\anaconda3\\envs\\mycorrectenv\\lib\\site-packages (from python-dateutil>=2.8.2->pandas>=1.3.0->yfinance) (1.17.0)\n",
      "Requirement already satisfied: charset_normalizer<4,>=2 in c:\\users\\welcome\\anaconda3\\envs\\mycorrectenv\\lib\\site-packages (from requests>=2.31->yfinance) (3.4.2)\n",
      "Requirement already satisfied: idna<4,>=2.5 in c:\\users\\welcome\\anaconda3\\envs\\mycorrectenv\\lib\\site-packages (from requests>=2.31->yfinance) (3.10)\n",
      "Requirement already satisfied: urllib3<3,>=1.21.1 in c:\\users\\welcome\\anaconda3\\envs\\mycorrectenv\\lib\\site-packages (from requests>=2.31->yfinance) (2.5.0)\n",
      "Downloading yfinance-0.2.65-py2.py3-none-any.whl (119 kB)\n",
      "Downloading curl_cffi-0.12.0-cp39-abi3-win_amd64.whl (1.6 MB)\n",
      "   ---------------------------------------- 0.0/1.6 MB ? eta -:--:--\n",
      "   ---------------------------------------- 1.6/1.6 MB 43.5 MB/s eta 0:00:00\n",
      "Downloading frozendict-2.4.6-cp310-cp310-win_amd64.whl (37 kB)\n",
      "Downloading websockets-15.0.1-cp310-cp310-win_amd64.whl (176 kB)\n",
      "Building wheels for collected packages: multitasking, peewee\n",
      "  Building wheel for multitasking (setup.py): started\n",
      "  Building wheel for multitasking (setup.py): finished with status 'done'\n",
      "  Created wheel for multitasking: filename=multitasking-0.0.12-py3-none-any.whl size=15703 sha256=65292b7ed4042b82b30f68fa3858fbbd0176d5ec8c3196f6e214f95032372019\n",
      "  Stored in directory: c:\\users\\welcome\\appdata\\local\\pip\\cache\\wheels\\e9\\25\\85\\25d2e1cfc0ece64b930b16972f7e4cc3599c43b531f1eba06d\n",
      "  Building wheel for peewee (pyproject.toml): started\n",
      "  Building wheel for peewee (pyproject.toml): finished with status 'done'\n",
      "  Created wheel for peewee: filename=peewee-3.18.2-py3-none-any.whl size=139153 sha256=131ed408bd0fa58984b1d52db7c30154d8052aea693e89ecd81d6e67941f15b2\n",
      "  Stored in directory: c:\\users\\welcome\\appdata\\local\\pip\\cache\\wheels\\29\\22\\6c\\745744e946d21fdbad1d89887af15cf0659ea76d1a884417ca\n",
      "Successfully built multitasking peewee\n",
      "Installing collected packages: peewee, multitasking, websockets, frozendict, curl_cffi, yfinance\n",
      "\n",
      "   ---------------------------------------- 0/6 [peewee]\n",
      "   ------------- -------------------------- 2/6 [websockets]\n",
      "   -------------------------- ------------- 4/6 [curl_cffi]\n",
      "   --------------------------------- ------ 5/6 [yfinance]\n",
      "   ---------------------------------------- 6/6 [yfinance]\n",
      "\n",
      "Successfully installed curl_cffi-0.12.0 frozendict-2.4.6 multitasking-0.0.12 peewee-3.18.2 websockets-15.0.1 yfinance-0.2.65\n",
      "Note: you may need to restart the kernel to use updated packages.\n"
     ]
    },
    {
     "name": "stderr",
     "output_type": "stream",
     "text": [
      "  DEPRECATION: Building 'multitasking' using the legacy setup.py bdist_wheel mechanism, which will be removed in a future version. pip 25.3 will enforce this behaviour change. A possible replacement is to use the standardized build interface by setting the `--use-pep517` option, (possibly combined with `--no-build-isolation`), or adding a `pyproject.toml` file to the source tree of 'multitasking'. Discussion can be found at https://github.com/pypa/pip/issues/6334\n"
     ]
    }
   ],
   "source": [
    "pip install yfinance\n"
   ]
  },
  {
   "cell_type": "code",
   "execution_count": 23,
   "id": "24848ea0-94e0-4bdf-8d29-1c023c50683e",
   "metadata": {},
   "outputs": [
    {
     "name": "stdout",
     "output_type": "stream",
     "text": [
      "213.75\n"
     ]
    }
   ],
   "source": [
    "import yfinance as yf\n",
    "\n",
    "ticker = yf.Ticker(\"AMZN\")\n",
    "data = ticker.info  # or use `ticker.history(period=\"1d\")` for price history\n",
    "\n",
    "print(data[\"currentPrice\"])  # Or any other field like 'marketCap', 'fiftyTwoWeekHigh', etc.\n"
   ]
  },
  {
   "cell_type": "code",
   "execution_count": 25,
   "id": "67bfbdcf-695b-49f5-8f3c-a2c512343e91",
   "metadata": {},
   "outputs": [
    {
     "name": "stdout",
     "output_type": "stream",
     "text": [
      "Current price of AMZN: \n",
      "57.26\n",
      "\n"
     ]
    }
   ],
   "source": [
    "from selenium import webdriver\n",
    "from selenium.webdriver.chrome.service import Service\n",
    "from selenium.webdriver.chrome.options import Options\n",
    "from webdriver_manager.chrome import ChromeDriverManager\n",
    "from bs4 import BeautifulSoup\n",
    "import time\n",
    "\n",
    "# Setup Selenium\n",
    "options = Options()\n",
    "options.add_argument(\"--headless\")  # optional\n",
    "service = Service(ChromeDriverManager().install())\n",
    "driver = webdriver.Chrome(service=service, options=options)\n",
    "\n",
    "# Navigate to Yahoo Finance page\n",
    "ticker = \"AMZN\"\n",
    "url = f\"https://finance.yahoo.com/quote/{ticker}\"\n",
    "driver.get(url)\n",
    "\n",
    "time.sleep(3)  # Wait for page to load\n",
    "\n",
    "# Parse HTML using BeautifulSoup\n",
    "soup = BeautifulSoup(driver.page_source, \"html.parser\")\n",
    "price_tag = soup.find(\"fin-streamer\", {\"data-field\": \"regularMarketPrice\"})\n",
    "\n",
    "if price_tag:\n",
    "    print(f\"Current price of {ticker}: {price_tag.text}\")\n",
    "else:\n",
    "    print(\"Price not found.\")\n",
    "\n",
    "#driver.quit()\n"
   ]
  },
  {
   "cell_type": "code",
   "execution_count": 28,
   "id": "242c2325-6138-4b62-9755-d5e911906ae1",
   "metadata": {},
   "outputs": [],
   "source": [
    "import time\n",
    "import requests\n",
    "\n",
    "ticker=\"AMZN\"\n",
    "\n",
    "#for ticker in tickers:\n",
    "url = f\"https://query1.finance.yahoo.com/v7/finance/quote?symbols={ticker}\"\n",
    "response = requests.get(url)\n",
    "response\n",
    "    \n",
    "# Wait 2 seconds between requests\n",
    "time.sleep(2)\n"
   ]
  },
  {
   "cell_type": "markdown",
   "id": "0534accd-64bd-45f9-be8d-8c3e3f386f6f",
   "metadata": {},
   "source": [
    "Use caching—don’t re-fetch the same data repeatedly.Response 429 after we requests the url is blocking us to scrap.the response 200 usually is good to scrap.to avoid blocking we addded time delay"
   ]
  },
  {
   "cell_type": "code",
   "execution_count": 33,
   "id": "24baca36-f887-4773-bcf7-fab657304d45",
   "metadata": {},
   "outputs": [
    {
     "name": "stdout",
     "output_type": "stream",
     "text": [
      "Price: 213.75\n",
      "Price: 215.17\n"
     ]
    }
   ],
   "source": [
    "from selenium import webdriver\n",
    "from selenium.webdriver.chrome.service import Service\n",
    "from selenium.webdriver.chrome.options import Options\n",
    "from selenium.webdriver.common.by import By\n",
    "from webdriver_manager.chrome import ChromeDriverManager\n",
    "import time\n",
    "\n",
    "# Setup driver\n",
    "options = Options()\n",
    "# options.add_argument('--headless')  # Uncomment if needed\n",
    "service = Service(ChromeDriverManager().install())\n",
    "driver = webdriver.Chrome(service=service, options=options)\n",
    "\n",
    "# Visit Yahoo Finance\n",
    "ticker = \"AMZN\"\n",
    "driver.get(f\"https://finance.yahoo.com/quote/{ticker}\")\n",
    "time.sleep(3)\n",
    "\n",
    "# Use correct method for locating elements (Selenium 4+)\n",
    "price_elements = driver.find_elements(By.XPATH, '//div[@class=\"container yf-16vvaki\"]//div[1]//span')\n",
    "\n",
    "# Print found prices\n",
    "for elem in price_elements:\n",
    "    print(\"Price:\", elem.text)\n",
    "\n",
    "driver.quit()\n"
   ]
  },
  {
   "cell_type": "code",
   "execution_count": 34,
   "id": "f7ef3927-df8f-47ad-b639-98021376a29c",
   "metadata": {},
   "outputs": [
    {
     "name": "stdout",
     "output_type": "stream",
     "text": [
      "Price: 213.75\n",
      "Price: 215.03\n",
      "current price of AMZNis=><selenium.webdriver.remote.webelement.WebElement (session=\"030354df455696f05baecc60b6ed6c87\", element=\"f.BB32227A32916E6FC05ABE2D08D3A3E1.d.76F2444D639C3186E1992333B4C442C7.e.97\")>\n",
      "Price: 213.75\n",
      "Price: 214.95\n",
      "Price: 213.75\n",
      "Price: 215.00\n",
      "current price of AMZNis=><selenium.webdriver.remote.webelement.WebElement (session=\"2700d0c751b499a4c22ecaeefe1b5724\", element=\"f.A967FA4E114D19906C4FC0331F12E178.d.E6E49A7852B6E3325ED09D90E0DD454A.e.90\")>\n",
      "Price: 213.75\n",
      "Price: 214.84\n",
      "Price: 213.75\n",
      "Price: 214.87\n",
      "current price of AMZNis=><selenium.webdriver.remote.webelement.WebElement (session=\"634995615fc1404065272c2519953b54\", element=\"f.36B3DF3D2BA86C513AF8EF56B5822097.d.1B51165AE0EC02260960934530D23DEC.e.94\")>\n",
      "Price: 213.75\n",
      "Price: 214.87\n",
      "Price: 213.75\n",
      "Price: 214.87\n",
      "current price of AMZNis=><selenium.webdriver.remote.webelement.WebElement (session=\"1c0ec055b03c575ebbbc8fc4035574bf\", element=\"f.DC3B699C4804DAFF8AAA167D060BE83E.d.A1170BD82770CF112615707CB2D37E6A.e.98\")>\n",
      "Price: 213.75\n",
      "Price: 214.87\n",
      "Price: 213.75\n",
      "Price: 214.85\n",
      "current price of AMZNis=><selenium.webdriver.remote.webelement.WebElement (session=\"c263acd9b701b44bdfa58a253a265874\", element=\"f.D728E74DF084B16F1D8650EA6F42B7AA.d.92D0A460AD804BD9723AC82D10F3BAB0.e.100\")>\n",
      "Price: 213.75\n",
      "Price: 214.81\n",
      "Price: 213.75\n",
      "Price: 214.81\n",
      "current price of AMZNis=><selenium.webdriver.remote.webelement.WebElement (session=\"54c9f1b8edaa1523c44686ae78529dba\", element=\"f.5E70B1B388943249EE388F18D62A5FAD.d.6B9B248D2C9187E3A9F7604E3D8F393B.e.76\")>\n",
      "Price: 213.75\n",
      "Price: 214.82\n",
      "Price: 213.75\n",
      "Price: 214.87\n",
      "current price of AMZNis=><selenium.webdriver.remote.webelement.WebElement (session=\"e1ac0a3a902130aa107e5f42cecffee6\", element=\"f.6C8A8CAE3549DDDEBE7959CE462658A1.d.12AB38250209E81636792215FFE5D80F.e.99\")>\n",
      "Price: 213.75\n",
      "Price: 214.87\n",
      "Price: 213.75\n",
      "Price: 214.87\n",
      "current price of AMZNis=><selenium.webdriver.remote.webelement.WebElement (session=\"de083b71796a5f7d5fa64a3f211d5d7e\", element=\"f.B5BC76F91A0D0DD5D66F03172CCBC3F8.d.F786C558E401387FB7D6D56956000E14.e.105\")>\n",
      "Price: 213.75\n",
      "Price: 214.91\n",
      "Price: 213.75\n",
      "Price: 215.00\n",
      "current price of AMZNis=><selenium.webdriver.remote.webelement.WebElement (session=\"fd772be7a4a6ed3bd4a9a951d98a8403\", element=\"f.C73677D5733E2294ED275A497BD06E73.d.AC57C525124908B127620263A4AAB601.e.81\")>\n",
      "Price: 213.75\n",
      "Price: 215.20\n",
      "Price: 213.75\n",
      "Price: 215.18\n",
      "current price of AMZNis=><selenium.webdriver.remote.webelement.WebElement (session=\"1cb53de1ef96a32a92ee6eba2c49b219\", element=\"f.F2A429F84E2C0B8FDBD02B38EE30F264.d.E5CDC7850678FDFB4FFC61748CBFC3F6.e.95\")>\n",
      "Price: 213.75\n",
      "Price: 215.18\n",
      "Price: 213.75\n",
      "Price: 215.10\n",
      "current price of AMZNis=><selenium.webdriver.remote.webelement.WebElement (session=\"ce709250f9fc86a78b348db8b5000d8a\", element=\"f.D9D02C673B5E2BF228E87D03D065EDE8.d.5305DB3596DF3938B640298375696407.e.96\")>\n",
      "Price: 213.75\n",
      "Price: 215.10\n",
      "Price: 213.75\n",
      "Price: 215.14\n",
      "current price of AMZNis=><selenium.webdriver.remote.webelement.WebElement (session=\"309b47fee8d5bdc1a91fbcee559a486e\", element=\"f.0F2B0661E9379EEA56E80EA0C10041E0.d.2A6F00CA7849795E229F2BAEFA8276F5.e.101\")>\n",
      "Price: 213.75\n",
      "Price: 215.16\n",
      "Price: 213.75\n",
      "Price: 215.33\n",
      "current price of AMZNis=><selenium.webdriver.remote.webelement.WebElement (session=\"189dd674373d64efb22118c944bdc51a\", element=\"f.D62F74F67261E0A7F0AD4E3243BC2261.d.4073C1987ED6E32C753D92CF87AB37CA.e.99\")>\n",
      "Price: 213.75\n",
      "Price: 215.32\n"
     ]
    },
    {
     "ename": "WebDriverException",
     "evalue": "Message: unknown error: cannot determine loading status\nfrom target frame detached\n  (Session info: chrome=138.0.7204.184)\nStacktrace:\n\tGetHandleVerifier [0x0xadba83+63395]\n\tGetHandleVerifier [0x0xadbac4+63460]\n\t(No symbol) [0x0x921f70]\n\t(No symbol) [0x0x912b60]\n\t(No symbol) [0x0x910b44]\n\t(No symbol) [0x0x91160d]\n\t(No symbol) [0x0x91e3ac]\n\t(No symbol) [0x0x92f2b5]\n\t(No symbol) [0x0x934cb6]\n\t(No symbol) [0x0x911c4d]\n\t(No symbol) [0x0x92eb43]\n\t(No symbol) [0x0x9b0a9c]\n\t(No symbol) [0x0x98f1a6]\n\t(No symbol) [0x0x95e7b2]\n\t(No symbol) [0x0x95f654]\n\tGetHandleVerifier [0x0xd58883+2672035]\n\tGetHandleVerifier [0x0xd53cba+2652634]\n\tGetHandleVerifier [0x0xb02bca+223466]\n\tGetHandleVerifier [0x0xaf2cb8+158168]\n\tGetHandleVerifier [0x0xaf978d+185517]\n\tGetHandleVerifier [0x0xae3b78+96408]\n\tGetHandleVerifier [0x0xae3d02+96802]\n\tGetHandleVerifier [0x0xace90a+9770]\n\tBaseThreadInitThunk [0x0x76405d49+25]\n\tRtlInitializeExceptionChain [0x0x77dfd1ab+107]\n\tRtlGetAppContainerNamedObjectPath [0x0x77dfd131+561]\n",
     "output_type": "error",
     "traceback": [
      "\u001b[1;31m---------------------------------------------------------------------------\u001b[0m",
      "\u001b[1;31mWebDriverException\u001b[0m                        Traceback (most recent call last)",
      "Cell \u001b[1;32mIn[34], line 37\u001b[0m\n\u001b[0;32m     35\u001b[0m stock_list\u001b[38;5;241m=\u001b[39m[]\n\u001b[0;32m     36\u001b[0m \u001b[38;5;28;01mwhile\u001b[39;00m \u001b[38;5;28;01mTrue\u001b[39;00m:\n\u001b[1;32m---> 37\u001b[0m     \u001b[38;5;28mprint\u001b[39m(\u001b[38;5;124m'\u001b[39m\u001b[38;5;124mcurrent price of \u001b[39m\u001b[38;5;124m'\u001b[39m\u001b[38;5;241m+\u001b[39m\u001b[38;5;28mstr\u001b[39m(stock)\u001b[38;5;241m+\u001b[39m\u001b[38;5;124m'\u001b[39m\u001b[38;5;124mis=>\u001b[39m\u001b[38;5;124m'\u001b[39m\u001b[38;5;241m+\u001b[39m\u001b[38;5;28mstr\u001b[39m(\u001b[43mlive_price\u001b[49m\u001b[43m(\u001b[49m\u001b[43m)\u001b[49m))\n\u001b[0;32m     38\u001b[0m     stock_list\u001b[38;5;241m.\u001b[39mappend(\u001b[38;5;28mstr\u001b[39m(live_price()))\n\u001b[0;32m     40\u001b[0m \u001b[38;5;66;03m#store in dataset\u001b[39;00m\n",
      "Cell \u001b[1;32mIn[34], line 20\u001b[0m, in \u001b[0;36mlive_price\u001b[1;34m()\u001b[0m\n\u001b[0;32m     18\u001b[0m \u001b[38;5;66;03m# Visit Yahoo Finance\u001b[39;00m\n\u001b[0;32m     19\u001b[0m ticker \u001b[38;5;241m=\u001b[39m \u001b[38;5;124m\"\u001b[39m\u001b[38;5;124mAMZN\u001b[39m\u001b[38;5;124m\"\u001b[39m\n\u001b[1;32m---> 20\u001b[0m \u001b[43mdriver\u001b[49m\u001b[38;5;241;43m.\u001b[39;49m\u001b[43mget\u001b[49m\u001b[43m(\u001b[49m\u001b[38;5;124;43mf\u001b[39;49m\u001b[38;5;124;43m\"\u001b[39;49m\u001b[38;5;124;43mhttps://finance.yahoo.com/quote/\u001b[39;49m\u001b[38;5;132;43;01m{\u001b[39;49;00m\u001b[43mticker\u001b[49m\u001b[38;5;132;43;01m}\u001b[39;49;00m\u001b[38;5;124;43m\"\u001b[39;49m\u001b[43m)\u001b[49m\n\u001b[0;32m     21\u001b[0m time\u001b[38;5;241m.\u001b[39msleep(\u001b[38;5;241m3\u001b[39m)\n\u001b[0;32m     23\u001b[0m \u001b[38;5;66;03m# Use correct method for locating elements (Selenium 4+)\u001b[39;00m\n",
      "File \u001b[1;32m~\\anaconda3\\envs\\mycorrectenv\\lib\\site-packages\\selenium\\webdriver\\remote\\webdriver.py:479\u001b[0m, in \u001b[0;36mWebDriver.get\u001b[1;34m(self, url)\u001b[0m\n\u001b[0;32m    461\u001b[0m \u001b[38;5;28;01mdef\u001b[39;00m\u001b[38;5;250m \u001b[39m\u001b[38;5;21mget\u001b[39m(\u001b[38;5;28mself\u001b[39m, url: \u001b[38;5;28mstr\u001b[39m) \u001b[38;5;241m-\u001b[39m\u001b[38;5;241m>\u001b[39m \u001b[38;5;28;01mNone\u001b[39;00m:\n\u001b[0;32m    462\u001b[0m \u001b[38;5;250m    \u001b[39m\u001b[38;5;124;03m\"\"\"Navigate the browser to the specified URL in the current window or\u001b[39;00m\n\u001b[0;32m    463\u001b[0m \u001b[38;5;124;03m    tab.\u001b[39;00m\n\u001b[0;32m    464\u001b[0m \n\u001b[1;32m   (...)\u001b[0m\n\u001b[0;32m    477\u001b[0m \u001b[38;5;124;03m    >>> driver.get(\"https://example.com\")\u001b[39;00m\n\u001b[0;32m    478\u001b[0m \u001b[38;5;124;03m    \"\"\"\u001b[39;00m\n\u001b[1;32m--> 479\u001b[0m     \u001b[38;5;28;43mself\u001b[39;49m\u001b[38;5;241;43m.\u001b[39;49m\u001b[43mexecute\u001b[49m\u001b[43m(\u001b[49m\u001b[43mCommand\u001b[49m\u001b[38;5;241;43m.\u001b[39;49m\u001b[43mGET\u001b[49m\u001b[43m,\u001b[49m\u001b[43m \u001b[49m\u001b[43m{\u001b[49m\u001b[38;5;124;43m\"\u001b[39;49m\u001b[38;5;124;43murl\u001b[39;49m\u001b[38;5;124;43m\"\u001b[39;49m\u001b[43m:\u001b[49m\u001b[43m \u001b[49m\u001b[43murl\u001b[49m\u001b[43m}\u001b[49m\u001b[43m)\u001b[49m\n",
      "File \u001b[1;32m~\\anaconda3\\envs\\mycorrectenv\\lib\\site-packages\\selenium\\webdriver\\remote\\webdriver.py:454\u001b[0m, in \u001b[0;36mWebDriver.execute\u001b[1;34m(self, driver_command, params)\u001b[0m\n\u001b[0;32m    451\u001b[0m response \u001b[38;5;241m=\u001b[39m cast(RemoteConnection, \u001b[38;5;28mself\u001b[39m\u001b[38;5;241m.\u001b[39mcommand_executor)\u001b[38;5;241m.\u001b[39mexecute(driver_command, params)\n\u001b[0;32m    453\u001b[0m \u001b[38;5;28;01mif\u001b[39;00m response:\n\u001b[1;32m--> 454\u001b[0m     \u001b[38;5;28;43mself\u001b[39;49m\u001b[38;5;241;43m.\u001b[39;49m\u001b[43merror_handler\u001b[49m\u001b[38;5;241;43m.\u001b[39;49m\u001b[43mcheck_response\u001b[49m\u001b[43m(\u001b[49m\u001b[43mresponse\u001b[49m\u001b[43m)\u001b[49m\n\u001b[0;32m    455\u001b[0m     response[\u001b[38;5;124m\"\u001b[39m\u001b[38;5;124mvalue\u001b[39m\u001b[38;5;124m\"\u001b[39m] \u001b[38;5;241m=\u001b[39m \u001b[38;5;28mself\u001b[39m\u001b[38;5;241m.\u001b[39m_unwrap_value(response\u001b[38;5;241m.\u001b[39mget(\u001b[38;5;124m\"\u001b[39m\u001b[38;5;124mvalue\u001b[39m\u001b[38;5;124m\"\u001b[39m, \u001b[38;5;28;01mNone\u001b[39;00m))\n\u001b[0;32m    456\u001b[0m     \u001b[38;5;28;01mreturn\u001b[39;00m response\n",
      "File \u001b[1;32m~\\anaconda3\\envs\\mycorrectenv\\lib\\site-packages\\selenium\\webdriver\\remote\\errorhandler.py:232\u001b[0m, in \u001b[0;36mErrorHandler.check_response\u001b[1;34m(self, response)\u001b[0m\n\u001b[0;32m    230\u001b[0m         alert_text \u001b[38;5;241m=\u001b[39m value[\u001b[38;5;124m\"\u001b[39m\u001b[38;5;124malert\u001b[39m\u001b[38;5;124m\"\u001b[39m]\u001b[38;5;241m.\u001b[39mget(\u001b[38;5;124m\"\u001b[39m\u001b[38;5;124mtext\u001b[39m\u001b[38;5;124m\"\u001b[39m)\n\u001b[0;32m    231\u001b[0m     \u001b[38;5;28;01mraise\u001b[39;00m exception_class(message, screen, stacktrace, alert_text)  \u001b[38;5;66;03m# type: ignore[call-arg]  # mypy is not smart enough here\u001b[39;00m\n\u001b[1;32m--> 232\u001b[0m \u001b[38;5;28;01mraise\u001b[39;00m exception_class(message, screen, stacktrace)\n",
      "\u001b[1;31mWebDriverException\u001b[0m: Message: unknown error: cannot determine loading status\nfrom target frame detached\n  (Session info: chrome=138.0.7204.184)\nStacktrace:\n\tGetHandleVerifier [0x0xadba83+63395]\n\tGetHandleVerifier [0x0xadbac4+63460]\n\t(No symbol) [0x0x921f70]\n\t(No symbol) [0x0x912b60]\n\t(No symbol) [0x0x910b44]\n\t(No symbol) [0x0x91160d]\n\t(No symbol) [0x0x91e3ac]\n\t(No symbol) [0x0x92f2b5]\n\t(No symbol) [0x0x934cb6]\n\t(No symbol) [0x0x911c4d]\n\t(No symbol) [0x0x92eb43]\n\t(No symbol) [0x0x9b0a9c]\n\t(No symbol) [0x0x98f1a6]\n\t(No symbol) [0x0x95e7b2]\n\t(No symbol) [0x0x95f654]\n\tGetHandleVerifier [0x0xd58883+2672035]\n\tGetHandleVerifier [0x0xd53cba+2652634]\n\tGetHandleVerifier [0x0xb02bca+223466]\n\tGetHandleVerifier [0x0xaf2cb8+158168]\n\tGetHandleVerifier [0x0xaf978d+185517]\n\tGetHandleVerifier [0x0xae3b78+96408]\n\tGetHandleVerifier [0x0xae3d02+96802]\n\tGetHandleVerifier [0x0xace90a+9770]\n\tBaseThreadInitThunk [0x0x76405d49+25]\n\tRtlInitializeExceptionChain [0x0x77dfd1ab+107]\n\tRtlGetAppContainerNamedObjectPath [0x0x77dfd131+561]\n"
     ]
    }
   ],
   "source": [
    "#we have now one price if we want to capture live price whenever \n",
    "#it changes we want to capture live price.\n",
    "\n",
    "from selenium import webdriver\n",
    "from selenium.webdriver.chrome.service import Service\n",
    "from selenium.webdriver.chrome.options import Options\n",
    "from selenium.webdriver.common.by import By\n",
    "from webdriver_manager.chrome import ChromeDriverManager\n",
    "import time\n",
    "\n",
    "def live_price():\n",
    "    # Setup driver\n",
    "    options = Options()\n",
    "    # options.add_argument('--headless')  # Uncomment if needed\n",
    "    service = Service(ChromeDriverManager().install())\n",
    "    driver = webdriver.Chrome(service=service, options=options)\n",
    "\n",
    "    # Visit Yahoo Finance\n",
    "    ticker = \"AMZN\"\n",
    "    driver.get(f\"https://finance.yahoo.com/quote/{ticker}\")\n",
    "    time.sleep(3)\n",
    "\n",
    "    # Use correct method for locating elements (Selenium 4+)\n",
    "    price_elements = driver.find_elements(By.XPATH, '//div[@class=\"container yf-16vvaki\"]//div[1]//span')\n",
    "\n",
    "    # Print found prices\n",
    "    for elem in price_elements:\n",
    "         print(\"Price:\", elem.text)\n",
    "\n",
    "    return elem\n",
    "\n",
    "    driver.quit()\n",
    "\n",
    "\n",
    "stock_list=[]\n",
    "while True:\n",
    "    print('current price of '+str(stock)+'is=>'+str(live_price()))\n",
    "    stock_list.append(str(live_price()))\n",
    "\n",
    "#store in dataset\n",
    "df=pd.DataFrame({'Stock':stock,'Price':stock_list})\n",
    "df.head()\n",
    "\n",
    "    "
   ]
  },
  {
   "cell_type": "code",
   "execution_count": 36,
   "id": "c48606d2-ba36-40d3-ae6b-e043e0f85bf1",
   "metadata": {},
   "outputs": [
    {
     "name": "stdout",
     "output_type": "stream",
     "text": [
      "Price 1: \n",
      "Price 2: \n",
      "Price 3: \n",
      "Price 4: \n",
      "Price 5: \n",
      "Price 6: \n",
      "  Stock Price\n",
      "0  AMZN      \n",
      "1  AMZN      \n",
      "2  AMZN      \n",
      "3  AMZN      \n",
      "4  AMZN      \n"
     ]
    }
   ],
   "source": [
    "from selenium import webdriver\n",
    "from selenium.webdriver.chrome.service import Service\n",
    "from selenium.webdriver.chrome.options import Options\n",
    "from selenium.webdriver.common.by import By\n",
    "from webdriver_manager.chrome import ChromeDriverManager\n",
    "import time\n",
    "import pandas as pd\n",
    "\n",
    "# Define stock symbol\n",
    "stock = \"AMZN\"\n",
    "stock_list = []\n",
    "\n",
    "# Setup Chrome driver once\n",
    "options = Options()\n",
    "# options.add_argument('--headless')  # Optional: Run without GUI\n",
    "service = Service(ChromeDriverManager().install())\n",
    "driver = webdriver.Chrome(service=service, options=options)\n",
    "\n",
    "# Open the stock page once\n",
    "driver.get(f\"https://finance.yahoo.com/quote/{stock}\")\n",
    "time.sleep(5)  # Let it fully load\n",
    "\n",
    "# Collect 6 live prices\n",
    "for i in range(6):\n",
    "    try:\n",
    "        # Get price from fin-streamer (more stable than div class)\n",
    "        price_element = driver.find_element(By.XPATH, '//fin-streamer[@data-field=\"regularMarketPrice\"]')\n",
    "        price = price_element.text\n",
    "        print(f\"Price {i+1}: {price}\")\n",
    "        stock_list.append(price)\n",
    "    except Exception as e:\n",
    "        print(\"Error reading price:\", e)\n",
    "        stock_list.append(\"N/A\")\n",
    "\n",
    "    time.sleep(2)  # Delay between reads\n",
    "\n",
    "# Quit browser\n",
    "driver.quit()\n",
    "\n",
    "# Save to DataFrame\n",
    "df = pd.DataFrame({'Stock': [stock]*len(stock_list), 'Price': stock_list})\n",
    "print(df.head())\n"
   ]
  },
  {
   "cell_type": "markdown",
   "id": "8ba2d8fa-2d73-41bf-89ff-1c3b769441a1",
   "metadata": {},
   "source": [
    "this means the XPath is matching an element, but its .text is empty. This is a common issue on JavaScript-heavy sites like Yahoo Finance where:\n",
    "\n",
    "The price is loaded dynamically.\n",
    "\n",
    "Even though the element is found, its value hasn't rendered yet.\n",
    "\n",
    "✅ Fix: Use WebDriverWait to wait until the text content is not empty\n",
    "We'll update your code to:\n",
    "\n",
    "Wait until the fin-streamer[data-field=\"regularMarketPrice\"] contains non-empty text.\n",
    "\n",
    "Read the price.\n",
    "\n",
    "Append it to the list."
   ]
  },
  {
   "cell_type": "code",
   "execution_count": 37,
   "id": "7262377d-ba08-49c7-a3c9-4a48f7e6d612",
   "metadata": {},
   "outputs": [
    {
     "name": "stdout",
     "output_type": "stream",
     "text": [
      "Price 1: \n",
      "Price 2: \n",
      "Price 3: \n",
      "Price 4: \n",
      "Price 5: \n",
      "Price 6: \n",
      "  Stock Price\n",
      "0  AMZN      \n",
      "1  AMZN      \n",
      "2  AMZN      \n",
      "3  AMZN      \n",
      "4  AMZN      \n",
      "5  AMZN      \n"
     ]
    }
   ],
   "source": [
    "from selenium import webdriver\n",
    "from selenium.webdriver.chrome.service import Service\n",
    "from selenium.webdriver.chrome.options import Options\n",
    "from selenium.webdriver.common.by import By\n",
    "from selenium.webdriver.support.ui import WebDriverWait\n",
    "from selenium.webdriver.support import expected_conditions as EC\n",
    "from webdriver_manager.chrome import ChromeDriverManager\n",
    "import time\n",
    "import pandas as pd\n",
    "\n",
    "stock = \"AMZN\"\n",
    "stock_list = []\n",
    "\n",
    "# Setup WebDriver\n",
    "options = Options()\n",
    "# options.add_argument('--headless')  # Optional\n",
    "service = Service(ChromeDriverManager().install())\n",
    "driver = webdriver.Chrome(service=service, options=options)\n",
    "\n",
    "# Open Yahoo Finance stock page\n",
    "driver.get(f\"https://finance.yahoo.com/quote/{stock}\")\n",
    "time.sleep(5)  # Give time to load the JS framework\n",
    "\n",
    "# Wait setup\n",
    "wait = WebDriverWait(driver, 10)\n",
    "\n",
    "# Capture 6 price updates\n",
    "for i in range(6):\n",
    "    try:\n",
    "        # Wait until the price element has non-empty text\n",
    "        price_element = wait.until(\n",
    "            EC.presence_of_element_located((By.XPATH, '//fin-streamer[@data-field=\"regularMarketPrice\"]'))\n",
    "        )\n",
    "\n",
    "        # Wait until the text is not empty\n",
    "        price_text = \"\"\n",
    "        retries = 0\n",
    "        while price_text == \"\" and retries < 5:\n",
    "            price_text = price_element.text.strip()\n",
    "            if price_text != \"\":\n",
    "                break\n",
    "            time.sleep(1)\n",
    "            retries += 1\n",
    "\n",
    "        print(f\"Price {i+1}: {price_text}\")\n",
    "        stock_list.append(price_text)\n",
    "\n",
    "    except Exception as e:\n",
    "        print(\"Error fetching price:\", e)\n",
    "        stock_list.append(\"N/A\")\n",
    "\n",
    "    time.sleep(2)  # Wait between samples\n",
    "\n",
    "driver.quit()\n",
    "\n",
    "# Save to DataFrame\n",
    "df = pd.DataFrame({'Stock': [stock]*len(stock_list), 'Price': stock_list})\n",
    "print(df)\n"
   ]
  },
  {
   "cell_type": "markdown",
   "id": "47e58790-6649-41d0-862c-c6f3ffa38da0",
   "metadata": {},
   "source": [
    " if you're still getting no values, we’ll apply a bulletproof approach to fix it. Yahoo Finance uses Shadow DOM and delayed JavaScript rendering, so even the right element might be invisible until after page render.\n",
    "\n",
    "Let’s use a tested and reliable XPath and explicitly wait for the text content of the fin-streamer[data-field=\"regularMarketPrice\"], which always holds the live price.\n",
    "\n"
   ]
  },
  {
   "cell_type": "code",
   "execution_count": 38,
   "id": "c50b69f7-7a46-4120-95a8-95c384b57301",
   "metadata": {},
   "outputs": [
    {
     "name": "stdout",
     "output_type": "stream",
     "text": [
      "Price 1: NOT FOUND\n",
      "Price 2: NOT FOUND\n",
      "Price 3: NOT FOUND\n",
      "Price 4: NOT FOUND\n",
      "Price 5: NOT FOUND\n",
      "Price 6: NOT FOUND\n",
      "  Stock Price\n",
      "0  AMZN   N/A\n",
      "1  AMZN   N/A\n",
      "2  AMZN   N/A\n",
      "3  AMZN   N/A\n",
      "4  AMZN   N/A\n",
      "5  AMZN   N/A\n"
     ]
    }
   ],
   "source": [
    "from selenium import webdriver\n",
    "from selenium.webdriver.chrome.service import Service\n",
    "from selenium.webdriver.chrome.options import Options\n",
    "from selenium.webdriver.common.by import By\n",
    "from selenium.webdriver.support.ui import WebDriverWait\n",
    "from selenium.webdriver.support import expected_conditions as EC\n",
    "from webdriver_manager.chrome import ChromeDriverManager\n",
    "import time\n",
    "import pandas as pd\n",
    "\n",
    "# Configuration\n",
    "stock = \"AMZN\"\n",
    "stock_list = []\n",
    "\n",
    "# Setup Chrome\n",
    "options = Options()\n",
    "# options.add_argument('--headless')  # Optional\n",
    "options.add_argument(\"--disable-blink-features=AutomationControlled\")\n",
    "options.add_argument(\"--start-maximized\")\n",
    "service = Service(ChromeDriverManager().install())\n",
    "driver = webdriver.Chrome(service=service, options=options)\n",
    "\n",
    "# Open Yahoo Finance stock page\n",
    "url = f\"https://finance.yahoo.com/quote/{stock}\"\n",
    "driver.get(url)\n",
    "\n",
    "# Wait for the regularMarketPrice element to appear\n",
    "wait = WebDriverWait(driver, 15)\n",
    "\n",
    "# Loop to collect 6 price updates\n",
    "for i in range(6):\n",
    "    try:\n",
    "        # Wait until the live price is available AND has non-empty text\n",
    "        price_element = wait.until(EC.presence_of_element_located(\n",
    "            (By.XPATH, '//fin-streamer[@data-field=\"regularMarketPrice\"]')\n",
    "        ))\n",
    "\n",
    "        # Retry if text is not loaded yet\n",
    "        retries = 0\n",
    "        price = price_element.text.strip()\n",
    "        while not price and retries < 5:\n",
    "            time.sleep(1)\n",
    "            price = price_element.text.strip()\n",
    "            retries += 1\n",
    "\n",
    "        if price:\n",
    "            print(f\"Price {i+1}: {price}\")\n",
    "            stock_list.append(price)\n",
    "        else:\n",
    "            print(f\"Price {i+1}: NOT FOUND\")\n",
    "            stock_list.append(\"N/A\")\n",
    "\n",
    "    except Exception as e:\n",
    "        print(f\"Error fetching price {i+1}:\", e)\n",
    "        stock_list.append(\"N/A\")\n",
    "\n",
    "    time.sleep(2)  # wait between price checks\n",
    "\n",
    "# Clean up\n",
    "driver.quit()\n",
    "\n",
    "# Save to DataFrame\n",
    "df = pd.DataFrame({'Stock': [stock]*6, 'Price': stock_list})\n",
    "print(df)\n"
   ]
  },
  {
   "cell_type": "markdown",
   "id": "28ed148f-fb3c-422a-8ac4-2f7b961c4581",
   "metadata": {},
   "source": [
    "this confirms that Yahoo is actively delaying or hiding the fin-streamer content from headless or automation-like browsers.\n",
    "\n",
    "Let’s now go step-by-step and use a reliable alternative method:\n",
    "\n",
    "✅ Alternative: Use BeautifulSoup with Selenium to parse the rendered HTML\n",
    "We’ll:\n",
    "\n",
    "Use Selenium to render the full page (JavaScript included).\n",
    "\n",
    "Use BeautifulSoup to parse the HTML.\n",
    "\n",
    "Extract the current price from the fin-streamer tag reliably."
   ]
  },
  {
   "cell_type": "code",
   "execution_count": 39,
   "id": "b46e3de5-a425-4d2c-9e73-86798b7ef3f6",
   "metadata": {},
   "outputs": [
    {
     "name": "stdout",
     "output_type": "stream",
     "text": [
      "Price 1: 118.32\n",
      "Price 2: 118.32\n",
      "Price 3: 118.32\n",
      "Price 4: 118.32\n",
      "Price 5: 118.32\n",
      "Price 6: 118.32\n",
      "  Stock   Price\n",
      "0  AMZN  118.32\n",
      "1  AMZN  118.32\n",
      "2  AMZN  118.32\n",
      "3  AMZN  118.32\n",
      "4  AMZN  118.32\n",
      "5  AMZN  118.32\n"
     ]
    }
   ],
   "source": [
    "from selenium import webdriver\n",
    "from selenium.webdriver.chrome.service import Service\n",
    "from selenium.webdriver.chrome.options import Options\n",
    "from bs4 import BeautifulSoup\n",
    "from webdriver_manager.chrome import ChromeDriverManager\n",
    "import time\n",
    "import pandas as pd\n",
    "\n",
    "stock = \"AMZN\"\n",
    "stock_list = []\n",
    "\n",
    "# Set up Chrome options\n",
    "options = Options()\n",
    "# options.add_argument('--headless')  # Keep it visible for dynamic JS\n",
    "options.add_argument(\"--disable-blink-features=AutomationControlled\")\n",
    "options.add_argument(\"--start-maximized\")\n",
    "\n",
    "# Set up Chrome driver\n",
    "service = Service(ChromeDriverManager().install())\n",
    "driver = webdriver.Chrome(service=service, options=options)\n",
    "\n",
    "# Open the stock page\n",
    "url = f\"https://finance.yahoo.com/quote/{stock}\"\n",
    "driver.get(url)\n",
    "time.sleep(5)  # Wait for JS to render\n",
    "\n",
    "# Collect 6 live prices\n",
    "for i in range(6):\n",
    "    try:\n",
    "        # Refresh the page source\n",
    "        soup = BeautifulSoup(driver.page_source, \"html.parser\")\n",
    "\n",
    "        # Extract from fin-streamer\n",
    "        price_tag = soup.find(\"fin-streamer\", {\"data-field\": \"regularMarketPrice\"})\n",
    "        price = price_tag.text.strip() if price_tag else \"N/A\"\n",
    "\n",
    "        print(f\"Price {i+1}: {price}\")\n",
    "        stock_list.append(price)\n",
    "    except Exception as e:\n",
    "        print(f\"Error fetching price {i+1}:\", e)\n",
    "        stock_list.append(\"N/A\")\n",
    "\n",
    "    time.sleep(2)\n",
    "\n",
    "driver.quit()\n",
    "\n",
    "# Save to DataFrame\n",
    "df = pd.DataFrame({'Stock': [stock]*6, 'Price': stock_list})\n",
    "print(df)\n"
   ]
  },
  {
   "cell_type": "markdown",
   "id": "9b4a5657-6ad6-4da5-83bb-a6314e74720a",
   "metadata": {},
   "source": [
    "Troubleshooting Tips:\n",
    "Don't use headless mode if you’re getting blank data.\n",
    "\n",
    "Make sure page fully loads before parsing.\n",
    "\n",
    "Yahoo may A/B test layouts — fin-streamer is usually the most reliable.\n",
    "\n"
   ]
  },
  {
   "cell_type": "code",
   "execution_count": 40,
   "id": "29f0af76-074a-40d3-9336-6649b3452ab5",
   "metadata": {},
   "outputs": [],
   "source": [
    "#using beautiful soup\n",
    "import requests"
   ]
  },
  {
   "cell_type": "code",
   "execution_count": 41,
   "id": "4574ee31-e281-435c-a74c-4e9cd5a3bcc9",
   "metadata": {},
   "outputs": [],
   "source": [
    "from bs4 import BeautifulSoup"
   ]
  },
  {
   "cell_type": "code",
   "execution_count": 42,
   "id": "deee8435-5fdc-4d39-820f-9eadeb1b267c",
   "metadata": {},
   "outputs": [
    {
     "data": {
      "text/plain": [
       "'https://finance.yahoo.com/quote/AMZN?p=AMZN'"
      ]
     },
     "execution_count": 42,
     "metadata": {},
     "output_type": "execute_result"
    }
   ],
   "source": [
    "stock1='AMZN'\n",
    "url='https://finance.yahoo.com/quote/'+str(stock)+'?p='+str(stock1)\n",
    "url"
   ]
  },
  {
   "cell_type": "code",
   "execution_count": 43,
   "id": "7b2b1681-906b-4f49-9586-f50a966d4850",
   "metadata": {},
   "outputs": [
    {
     "data": {
      "text/plain": [
       "<Response [429]>"
      ]
     },
     "execution_count": 43,
     "metadata": {},
     "output_type": "execute_result"
    }
   ],
   "source": [
    "res=requests.get(url)\n",
    "res"
   ]
  },
  {
   "cell_type": "code",
   "execution_count": 48,
   "id": "036fddd5-b72d-4b41-a458-b0af6a4f2640",
   "metadata": {},
   "outputs": [
    {
     "name": "stdout",
     "output_type": "stream",
     "text": [
      "✅ Price: 213.75 \n"
     ]
    }
   ],
   "source": [
    "import requests\n",
    "from bs4 import BeautifulSoup\n",
    "\n",
    "# Get the webpage\n",
    "url = \"https://finance.yahoo.com/quote/AMZN\"\n",
    "headers = {\"User-Agent\": \"Mozilla/5.0\"}  # Fake user agent to avoid blocking\n",
    "res = requests.get(url, headers=headers)\n",
    "\n",
    "# Parse the page\n",
    "soup = BeautifulSoup(res.text, \"html.parser\")\n",
    "\n",
    "# Try to locate the outer container\n",
    "container = soup.find('div', {'class': \"container yf-16vvaki\"})\n",
    "\n",
    "if container:\n",
    "    # Look for the nested div > span inside it\n",
    "    nested_div = container.find('div')\n",
    "    if nested_div:\n",
    "        price_span = nested_div.find('span')\n",
    "        if price_span:\n",
    "            print(\"✅ Price:\", price_span.text)\n",
    "        else:\n",
    "            print(\"❌ Price span not found\")\n",
    "    else:\n",
    "        print(\"❌ Nested div not found\")\n",
    "else:\n",
    "    print(\"❌ Container div not found\")\n"
   ]
  },
  {
   "cell_type": "markdown",
   "id": "35c760d2-5acc-4b0e-b83f-cb6c0919d3fd",
   "metadata": {},
   "source": [
    ".find() directly on the result of .find_all(), which returns a list, not a single element.\n",
    "\n"
   ]
  },
  {
   "cell_type": "code",
   "execution_count": 50,
   "id": "8db45a47-e1ae-4069-b1d7-331fd4be801a",
   "metadata": {},
   "outputs": [
    {
     "name": "stdout",
     "output_type": "stream",
     "text": [
      "✅ Price: 213.75 \n",
      "current price ofAMZNis=>213.75 \n",
      "✅ Price: 213.75 \n",
      "✅ Price: 213.75 \n",
      "current price ofAMZNis=>213.75 \n",
      "✅ Price: 213.75 \n",
      "✅ Price: 213.75 \n",
      "current price ofAMZNis=>213.75 \n",
      "✅ Price: 213.75 \n",
      "✅ Price: 213.75 \n",
      "current price ofAMZNis=>213.75 \n",
      "✅ Price: 213.75 \n",
      "✅ Price: 213.75 \n",
      "current price ofAMZNis=>213.75 \n",
      "✅ Price: 213.75 \n",
      "✅ Price: 213.75 \n",
      "current price ofAMZNis=>213.75 \n",
      "✅ Price: 213.75 \n",
      "  Stock    Price\n",
      "0  AMZN  213.75 \n",
      "1  AMZN  213.75 \n",
      "2  AMZN  213.75 \n",
      "3  AMZN  213.75 \n",
      "4  AMZN  213.75 \n",
      "5  AMZN  213.75 \n"
     ]
    }
   ],
   "source": [
    "import requests\n",
    "from bs4 import BeautifulSoup\n",
    "\n",
    "# Get the webpage\n",
    "url = \"https://finance.yahoo.com/quote/AMZN\"\n",
    "headers = {\"User-Agent\": \"Mozilla/5.0\"}  # Fake user agent to avoid blocking\n",
    "res = requests.get(url, headers=headers)\n",
    "def live_price():\n",
    "    # Parse the page\n",
    "    soup = BeautifulSoup(res.text, \"html.parser\")\n",
    "\n",
    "    # Try to locate the outer container\n",
    "    container = soup.find('div', {'class': \"container yf-16vvaki\"})\n",
    "\n",
    "    if container:\n",
    "         # Look for the nested div > span inside it\n",
    "         nested_div = container.find('div')\n",
    "         if nested_div:\n",
    "             price_span = nested_div.find('span')\n",
    "             if price_span:\n",
    "                  print(\"✅ Price:\", price_span.text)\n",
    "             else:\n",
    "                  print(\"❌ Price span not found\")\n",
    "         else:\n",
    "              print(\"❌ Nested div not found\")\n",
    "    else:\n",
    "          print(\"❌ Container div not found\")\n",
    "    return price_span.text\n",
    "\n",
    "\n",
    "stock_list=[]\n",
    "for i in range(6):\n",
    "    print('current price of'+str(stock1)+'is=>'+str(live_price()))\n",
    "    stock_list.append(str(live_price()))\n",
    "\n",
    "\n",
    "# Save to DataFrame\n",
    "df = pd.DataFrame({'Stock': [stock]*6, 'Price': stock_list})\n",
    "print(df)\n"
   ]
  },
  {
   "cell_type": "code",
   "execution_count": 51,
   "id": "44dd9a65-fdf1-438f-bfbd-de05cba79aec",
   "metadata": {},
   "outputs": [
    {
     "name": "stdout",
     "output_type": "stream",
     "text": [
      "Current price of AMZN is => 6,341.75\n",
      "Current price of AMZN is => 6,341.75\n",
      "Current price of AMZN is => 6,341.75\n",
      "Current price of AMZN is => 6,341.75\n",
      "Current price of AMZN is => 6,341.75\n",
      "Current price of AMZN is => 6,341.75\n",
      "  Stock     Price\n",
      "0  AMZN  6,341.75\n",
      "1  AMZN  6,341.75\n",
      "2  AMZN  6,341.75\n",
      "3  AMZN  6,341.75\n",
      "4  AMZN  6,341.75\n",
      "5  AMZN  6,341.75\n"
     ]
    }
   ],
   "source": [
    "import requests\n",
    "from bs4 import BeautifulSoup\n",
    "import pandas as pd\n",
    "import time\n",
    "\n",
    "url = \"https://finance.yahoo.com/quote/AMZN\"\n",
    "headers = {\"User-Agent\": \"Mozilla/5.0\"}\n",
    "\n",
    "def live_price():\n",
    "    res = requests.get(url, headers=headers)\n",
    "    soup = BeautifulSoup(res.text, \"html.parser\")\n",
    "\n",
    "    # Find price from reliable class or tag\n",
    "    price_span = soup.find('fin-streamer', {'data-field': 'regularMarketPrice'})\n",
    "    if price_span:\n",
    "        return price_span.text.strip()\n",
    "    else:\n",
    "        print(\"❌ Price not found\")\n",
    "        return None\n",
    "\n",
    "# Collect prices\n",
    "stock = \"AMZN\"\n",
    "stock_list = []\n",
    "\n",
    "for i in range(6):\n",
    "    price = live_price()\n",
    "    print(f\"Current price of {stock} is => {price}\")\n",
    "    stock_list.append(price)\n",
    "    time.sleep(1)  # add delay to avoid getting blocked\n",
    "\n",
    "# Save to DataFrame\n",
    "df = pd.DataFrame({'Stock': [stock]*6, 'Price': stock_list})\n",
    "print(df)\n"
   ]
  },
  {
   "cell_type": "markdown",
   "id": "a04731fd-8ee1-414b-a35b-0ad1a97102e5",
   "metadata": {},
   "source": [
    "we can also give timer,we can also say whenever the price changes then only we print it."
   ]
  },
  {
   "cell_type": "code",
   "execution_count": null,
   "id": "7d8d020c-5d3f-4da7-a419-2e283f86011d",
   "metadata": {},
   "outputs": [],
   "source": []
  }
 ],
 "metadata": {
  "kernelspec": {
   "display_name": "Python [conda env:mycorrectenv]",
   "language": "python",
   "name": "conda-env-mycorrectenv-py"
  },
  "language_info": {
   "codemirror_mode": {
    "name": "ipython",
    "version": 3
   },
   "file_extension": ".py",
   "mimetype": "text/x-python",
   "name": "python",
   "nbconvert_exporter": "python",
   "pygments_lexer": "ipython3",
   "version": "3.10.18"
  }
 },
 "nbformat": 4,
 "nbformat_minor": 5
}
